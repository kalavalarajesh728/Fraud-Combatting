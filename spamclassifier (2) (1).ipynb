{
 "cells": [
  {
   "cell_type": "markdown",
   "metadata": {},
   "source": [
    "# Spam classifier\n",
    "\n"
   ]
  },
  {
   "cell_type": "code",
   "execution_count": null,
   "metadata": {},
   "outputs": [],
   "source": []
  },
  {
   "cell_type": "code",
   "execution_count": 6,
   "metadata": {},
   "outputs": [
    {
     "ename": "ModuleNotFoundError",
     "evalue": "No module named 'utils'",
     "output_type": "error",
     "traceback": [
      "\u001b[1;31m---------------------------------------------------------------------------\u001b[0m",
      "\u001b[1;31mModuleNotFoundError\u001b[0m                       Traceback (most recent call last)",
      "\u001b[1;32m~\\AppData\\Local\\Temp\\ipykernel_12696\\3272065158.py\u001b[0m in \u001b[0;36m<module>\u001b[1;34m\u001b[0m\n\u001b[0;32m      3\u001b[0m \u001b[1;32mimport\u001b[0m \u001b[0mpandas\u001b[0m \u001b[1;32mas\u001b[0m \u001b[0mpd\u001b[0m\u001b[1;33m\u001b[0m\u001b[1;33m\u001b[0m\u001b[0m\n\u001b[0;32m      4\u001b[0m \u001b[1;33m\u001b[0m\u001b[0m\n\u001b[1;32m----> 5\u001b[1;33m \u001b[1;32mfrom\u001b[0m \u001b[0mutils\u001b[0m \u001b[1;32mimport\u001b[0m \u001b[0mfetch_data\u001b[0m\u001b[1;33m,\u001b[0m \u001b[0mload_email\u001b[0m\u001b[1;33m,\u001b[0m \u001b[0mmake_email_example\u001b[0m\u001b[1;33m,\u001b[0m \u001b[0mplot_precision_recall_vs_threshold\u001b[0m\u001b[1;33m\u001b[0m\u001b[1;33m\u001b[0m\u001b[0m\n\u001b[0m\u001b[0;32m      6\u001b[0m \u001b[1;33m\u001b[0m\u001b[0m\n\u001b[0;32m      7\u001b[0m \u001b[1;31m#from sklearn.model_selection import train_test_split\u001b[0m\u001b[1;33m\u001b[0m\u001b[1;33m\u001b[0m\u001b[0m\n",
      "\u001b[1;31mModuleNotFoundError\u001b[0m: No module named 'utils'"
     ]
    }
   ],
   "source": [
    "import os\n",
    "import numpy as np\n",
    "import pandas as pd\n",
    "\n",
    "from utils import fetch_data, load_email, make_email_example, plot_precision_recall_vs_threshold\n",
    "\n",
    "#from sklearn.model_selection import train_test_split\n",
    "#from sklearn.base import BaseEstimator, TransformerMixin\n",
    "#from sklearn.feature_extraction.text import TfidfVectorizer\n",
    "#from sklearn.naive_bayes import MultinomialNB\n",
    "#from sklearn.pipeline import Pipeline\n",
    "#from sklearn.model_selection import StratifiedKFold, GridSearchCV, cross_val_predict\n",
    "#from sklearn.metrics import precision_score, recall_score, accuracy_score, precision_recall_curve\n",
    "\n",
    "import spacy\n",
    "from spacy.language import Language\n",
    "from spacy_langdetect import LanguageDetector\n",
    "from langdetect import DetectorFactory\n",
    "\n",
    "from tqdm.notebook import tqdm\n",
    "\n",
    "pd.set_option('max_colwidth', 100)\n",
    "tqdm.pandas()"
   ]
  },
  {
   "cell_type": "markdown",
   "metadata": {},
   "source": [
    "## Download email corpus\n",
    "\n",
    "Download and extract some genuine emails and spams from the SpamAssassin public email corpus.\n",
    "\n",
    "Source: https://spamassassin.apache.org/old/publiccorpus/"
   ]
  },
  {
   "cell_type": "code",
   "execution_count": null,
   "metadata": {},
   "outputs": [],
   "source": [
    "DOWNLOAD_ROOT = \"http://spamassassin.apache.org/old/publiccorpus/\"\n",
    "SPAM_PATH = os.path.join(\"datasets\", \"spam\")\n",
    "\n",
    "fetch_data(DOWNLOAD_ROOT + \"20030228_easy_ham.tar.bz2\", SPAM_PATH)\n",
    "fetch_data(DOWNLOAD_ROOT + \"20030228_easy_ham_2.tar.bz2\", SPAM_PATH)\n",
    "fetch_data(DOWNLOAD_ROOT + \"20030228_hard_ham.tar.bz2\", SPAM_PATH)\n",
    "fetch_data(DOWNLOAD_ROOT + \"20030228_spam.tar.bz2\", SPAM_PATH)\n",
    "fetch_data(DOWNLOAD_ROOT + \"20030228_spam_2.tar.bz2\", SPAM_PATH)"
   ]
  },
  {
   "cell_type": "markdown",
   "metadata": {},
   "source": [
    "## Import raw emails\n",
    "Then we have used parsing."
   ]
  },
  {
   "cell_type": "code",
   "execution_count": 3,
   "metadata": {},
   "outputs": [],
   "source": [
    "\n",
    "easy_ham_filenames = [name for name in os.listdir(os.path.join(SPAM_PATH, 'easy_ham')) if name != 'cmds']\n",
    "easy_ham_2_filenames = [name for name in os.listdir(os.path.join(SPAM_PATH, 'easy_ham_2')) if name != 'cmds']\n",
    "hard_ham_filenames = [name for name in os.listdir(os.path.join(SPAM_PATH, 'hard_ham')) if name != 'cmds']\n",
    "spam_filenames = [name for name in os.listdir(os.path.join(SPAM_PATH, 'spam')) if name != 'cmds']\n",
    "spam_2_filenames = [name for name in os.listdir(os.path.join(SPAM_PATH, 'spam_2')) if name != 'cmds']\n",
    "\n",
    "easy_ham_emails = [load_email(os.path.join(SPAM_PATH, 'easy_ham'), name) for name in easy_ham_filenames]\n",
    "easy_ham_2_emails = [load_email(os.path.join(SPAM_PATH, 'easy_ham_2'), name) for name in easy_ham_2_filenames]\n",
    "hard_ham_emails = [load_email(os.path.join(SPAM_PATH, 'hard_ham'), name) for name in hard_ham_filenames]\n",
    "spam_emails = [load_email(os.path.join(SPAM_PATH, 'spam'), name) for name in spam_filenames]\n",
    "spam_2_emails = [load_email(os.path.join(SPAM_PATH, 'spam_2'), name) for name in spam_2_filenames]\n"
   ]
  },
  {
   "cell_type": "markdown",
   "metadata": {},
   "source": [
    "## Create labelled examples\n",
    "\n",
    "#Scraping the text from the emails and add it to an 1x2 array with the label (1=spam, 0=no spam)."
   ]
  },
  {
   "cell_type": "code",
   "execution_count": 5,
   "metadata": {},
   "outputs": [
    {
     "ename": "NameError",
     "evalue": "name 'easy_ham_emails' is not defined",
     "output_type": "error",
     "traceback": [
      "\u001b[1;31m---------------------------------------------------------------------------\u001b[0m",
      "\u001b[1;31mNameError\u001b[0m                                 Traceback (most recent call last)",
      "\u001b[1;32m<timed exec>\u001b[0m in \u001b[0;36m<module>\u001b[1;34m\u001b[0m\n",
      "\u001b[1;31mNameError\u001b[0m: name 'easy_ham_emails' is not defined"
     ]
    }
   ],
   "source": [
    "%%time\n",
    "\n",
    "examples = np.empty((0,2), 'object')\n",
    "for i, he in enumerate(easy_ham_emails + easy_ham_2_emails + hard_ham_emails):\n",
    "    try:\n",
    "        examples = np.append(examples, make_email_example(he, is_spam=False, clean=True), axis=0)\n",
    "    except:\n",
    "        print(i)\n",
    "for i, se in enumerate(spam_emails + spam_2_emails):\n",
    "    try:\n",
    "        examples = np.append(examples, make_email_example(se, is_spam=True, clean=True), axis=0)\n",
    "    except:\n",
    "        print(i)\n",
    "\n",
    "df = pd.DataFrame(examples, columns = ['Text', 'Spam'])\n",
    "df.head()"
   ]
  },
  {
   "cell_type": "code",
   "execution_count": 3,
   "metadata": {},
   "outputs": [
    {
     "data": {
      "image/png": "[encoded data removed]",
      "text/plain": [
       "<Figure size 640x480 with 1 Axes>"
      ]
     },
     "metadata": {},
     "output_type": "display_data"
    }
   ],
   "source": [
    "import matplotlib.pyplot as plt\n",
    "labels = ['Non-Spam', 'Spam']\n",
    "sizes = [2788, 1813]\n",
    "\n",
    "plt.bar(labels, sizes, color=['green', 'red'])\n",
    "plt.title('Class Distribution')\n",
    "plt.xlabel('Class')\n",
    "plt.ylabel('Count')\n",
    "plt.show()\n"
   ]
  },
  {
   "cell_type": "code",
   "execution_count": 4,
   "metadata": {},
   "outputs": [
    {
     "ename": "ValueError",
     "evalue": "shape mismatch: objects cannot be broadcast to a single shape.  Mismatch is between arg 0 with shape (48,) and arg 1 with shape (57,).",
     "output_type": "error",
     "traceback": [
      "\u001b[1;31m---------------------------------------------------------------------------\u001b[0m",
      "\u001b[1;31mValueError\u001b[0m                                Traceback (most recent call last)",
      "\u001b[1;32m~\\AppData\\Local\\Temp\\ipykernel_12696\\496416176.py\u001b[0m in \u001b[0;36m<module>\u001b[1;34m\u001b[0m\n\u001b[0;32m      3\u001b[0m \u001b[1;33m\u001b[0m\u001b[0m\n\u001b[0;32m      4\u001b[0m \u001b[0mplt\u001b[0m\u001b[1;33m.\u001b[0m\u001b[0mfigure\u001b[0m\u001b[1;33m(\u001b[0m\u001b[0mfigsize\u001b[0m\u001b[1;33m=\u001b[0m\u001b[1;33m(\u001b[0m\u001b[1;36m12\u001b[0m\u001b[1;33m,\u001b[0m \u001b[1;36m6\u001b[0m\u001b[1;33m)\u001b[0m\u001b[1;33m)\u001b[0m\u001b[1;33m\u001b[0m\u001b[1;33m\u001b[0m\u001b[0m\n\u001b[1;32m----> 5\u001b[1;33m \u001b[0mplt\u001b[0m\u001b[1;33m.\u001b[0m\u001b[0mbar\u001b[0m\u001b[1;33m(\u001b[0m\u001b[0mattributes\u001b[0m\u001b[1;33m,\u001b[0m \u001b[0mword_attributes_mean\u001b[0m\u001b[1;33m,\u001b[0m \u001b[0mcolor\u001b[0m\u001b[1;33m=\u001b[0m\u001b[1;34m'blue'\u001b[0m\u001b[1;33m)\u001b[0m\u001b[1;33m\u001b[0m\u001b[1;33m\u001b[0m\u001b[0m\n\u001b[0m\u001b[0;32m      6\u001b[0m \u001b[0mplt\u001b[0m\u001b[1;33m.\u001b[0m\u001b[0mtitle\u001b[0m\u001b[1;33m(\u001b[0m\u001b[1;34m'Mean Word Frequency Attributes'\u001b[0m\u001b[1;33m)\u001b[0m\u001b[1;33m\u001b[0m\u001b[1;33m\u001b[0m\u001b[0m\n\u001b[0;32m      7\u001b[0m \u001b[0mplt\u001b[0m\u001b[1;33m.\u001b[0m\u001b[0mxlabel\u001b[0m\u001b[1;33m(\u001b[0m\u001b[1;34m'Word Attributes'\u001b[0m\u001b[1;33m)\u001b[0m\u001b[1;33m\u001b[0m\u001b[1;33m\u001b[0m\u001b[0m\n",
      "\u001b[1;32m~\\anaconda3\\lib\\site-packages\\matplotlib\\pyplot.py\u001b[0m in \u001b[0;36mbar\u001b[1;34m(x, height, width, bottom, align, data, **kwargs)\u001b[0m\n\u001b[0;32m   2397\u001b[0m         \u001b[0mx\u001b[0m\u001b[1;33m,\u001b[0m \u001b[0mheight\u001b[0m\u001b[1;33m,\u001b[0m \u001b[0mwidth\u001b[0m\u001b[1;33m=\u001b[0m\u001b[1;36m0.8\u001b[0m\u001b[1;33m,\u001b[0m \u001b[0mbottom\u001b[0m\u001b[1;33m=\u001b[0m\u001b[1;32mNone\u001b[0m\u001b[1;33m,\u001b[0m \u001b[1;33m*\u001b[0m\u001b[1;33m,\u001b[0m \u001b[0malign\u001b[0m\u001b[1;33m=\u001b[0m\u001b[1;34m'center'\u001b[0m\u001b[1;33m,\u001b[0m\u001b[1;33m\u001b[0m\u001b[1;33m\u001b[0m\u001b[0m\n\u001b[0;32m   2398\u001b[0m         data=None, **kwargs):\n\u001b[1;32m-> 2399\u001b[1;33m     return gca().bar(\n\u001b[0m\u001b[0;32m   2400\u001b[0m         \u001b[0mx\u001b[0m\u001b[1;33m,\u001b[0m \u001b[0mheight\u001b[0m\u001b[1;33m,\u001b[0m \u001b[0mwidth\u001b[0m\u001b[1;33m=\u001b[0m\u001b[0mwidth\u001b[0m\u001b[1;33m,\u001b[0m \u001b[0mbottom\u001b[0m\u001b[1;33m=\u001b[0m\u001b[0mbottom\u001b[0m\u001b[1;33m,\u001b[0m \u001b[0malign\u001b[0m\u001b[1;33m=\u001b[0m\u001b[0malign\u001b[0m\u001b[1;33m,\u001b[0m\u001b[1;33m\u001b[0m\u001b[1;33m\u001b[0m\u001b[0m\n\u001b[0;32m   2401\u001b[0m         **({\"data\": data} if data is not None else {}), **kwargs)\n",
      "\u001b[1;32m~\\anaconda3\\lib\\site-packages\\matplotlib\\__init__.py\u001b[0m in \u001b[0;36minner\u001b[1;34m(ax, data, *args, **kwargs)\u001b[0m\n\u001b[0;32m   1410\u001b[0m     \u001b[1;32mdef\u001b[0m \u001b[0minner\u001b[0m\u001b[1;33m(\u001b[0m\u001b[0max\u001b[0m\u001b[1;33m,\u001b[0m \u001b[1;33m*\u001b[0m\u001b[0margs\u001b[0m\u001b[1;33m,\u001b[0m \u001b[0mdata\u001b[0m\u001b[1;33m=\u001b[0m\u001b[1;32mNone\u001b[0m\u001b[1;33m,\u001b[0m \u001b[1;33m**\u001b[0m\u001b[0mkwargs\u001b[0m\u001b[1;33m)\u001b[0m\u001b[1;33m:\u001b[0m\u001b[1;33m\u001b[0m\u001b[1;33m\u001b[0m\u001b[0m\n\u001b[0;32m   1411\u001b[0m         \u001b[1;32mif\u001b[0m \u001b[0mdata\u001b[0m \u001b[1;32mis\u001b[0m \u001b[1;32mNone\u001b[0m\u001b[1;33m:\u001b[0m\u001b[1;33m\u001b[0m\u001b[1;33m\u001b[0m\u001b[0m\n\u001b[1;32m-> 1412\u001b[1;33m             \u001b[1;32mreturn\u001b[0m \u001b[0mfunc\u001b[0m\u001b[1;33m(\u001b[0m\u001b[0max\u001b[0m\u001b[1;33m,\u001b[0m \u001b[1;33m*\u001b[0m\u001b[0mmap\u001b[0m\u001b[1;33m(\u001b[0m\u001b[0msanitize_sequence\u001b[0m\u001b[1;33m,\u001b[0m \u001b[0margs\u001b[0m\u001b[1;33m)\u001b[0m\u001b[1;33m,\u001b[0m \u001b[1;33m**\u001b[0m\u001b[0mkwargs\u001b[0m\u001b[1;33m)\u001b[0m\u001b[1;33m\u001b[0m\u001b[1;33m\u001b[0m\u001b[0m\n\u001b[0m\u001b[0;32m   1413\u001b[0m \u001b[1;33m\u001b[0m\u001b[0m\n\u001b[0;32m   1414\u001b[0m         \u001b[0mbound\u001b[0m \u001b[1;33m=\u001b[0m \u001b[0mnew_sig\u001b[0m\u001b[1;33m.\u001b[0m\u001b[0mbind\u001b[0m\u001b[1;33m(\u001b[0m\u001b[0max\u001b[0m\u001b[1;33m,\u001b[0m \u001b[1;33m*\u001b[0m\u001b[0margs\u001b[0m\u001b[1;33m,\u001b[0m \u001b[1;33m**\u001b[0m\u001b[0mkwargs\u001b[0m\u001b[1;33m)\u001b[0m\u001b[1;33m\u001b[0m\u001b[1;33m\u001b[0m\u001b[0m\n",
      "\u001b[1;32m~\\anaconda3\\lib\\site-packages\\matplotlib\\axes\\_axes.py\u001b[0m in \u001b[0;36mbar\u001b[1;34m(self, x, height, width, bottom, align, **kwargs)\u001b[0m\n\u001b[0;32m   2340\u001b[0m                 \u001b[0myerr\u001b[0m \u001b[1;33m=\u001b[0m \u001b[0mself\u001b[0m\u001b[1;33m.\u001b[0m\u001b[0m_convert_dx\u001b[0m\u001b[1;33m(\u001b[0m\u001b[0myerr\u001b[0m\u001b[1;33m,\u001b[0m \u001b[0my0\u001b[0m\u001b[1;33m,\u001b[0m \u001b[0my\u001b[0m\u001b[1;33m,\u001b[0m \u001b[0mself\u001b[0m\u001b[1;33m.\u001b[0m\u001b[0mconvert_yunits\u001b[0m\u001b[1;33m)\u001b[0m\u001b[1;33m\u001b[0m\u001b[1;33m\u001b[0m\u001b[0m\n\u001b[0;32m   2341\u001b[0m \u001b[1;33m\u001b[0m\u001b[0m\n\u001b[1;32m-> 2342\u001b[1;33m         x, height, width, y, linewidth, hatch = np.broadcast_arrays(\n\u001b[0m\u001b[0;32m   2343\u001b[0m             \u001b[1;31m# Make args iterable too.\u001b[0m\u001b[1;33m\u001b[0m\u001b[1;33m\u001b[0m\u001b[0m\n\u001b[0;32m   2344\u001b[0m             np.atleast_1d(x), height, width, y, linewidth, hatch)\n",
      "\u001b[1;32m~\\anaconda3\\lib\\site-packages\\numpy\\core\\overrides.py\u001b[0m in \u001b[0;36mbroadcast_arrays\u001b[1;34m(*args, **kwargs)\u001b[0m\n",
      "\u001b[1;32m~\\anaconda3\\lib\\site-packages\\numpy\\lib\\stride_tricks.py\u001b[0m in \u001b[0;36mbroadcast_arrays\u001b[1;34m(subok, *args)\u001b[0m\n\u001b[0;32m    538\u001b[0m     \u001b[0margs\u001b[0m \u001b[1;33m=\u001b[0m \u001b[1;33m[\u001b[0m\u001b[0mnp\u001b[0m\u001b[1;33m.\u001b[0m\u001b[0marray\u001b[0m\u001b[1;33m(\u001b[0m\u001b[0m_m\u001b[0m\u001b[1;33m,\u001b[0m \u001b[0mcopy\u001b[0m\u001b[1;33m=\u001b[0m\u001b[1;32mFalse\u001b[0m\u001b[1;33m,\u001b[0m \u001b[0msubok\u001b[0m\u001b[1;33m=\u001b[0m\u001b[0msubok\u001b[0m\u001b[1;33m)\u001b[0m \u001b[1;32mfor\u001b[0m \u001b[0m_m\u001b[0m \u001b[1;32min\u001b[0m \u001b[0margs\u001b[0m\u001b[1;33m]\u001b[0m\u001b[1;33m\u001b[0m\u001b[1;33m\u001b[0m\u001b[0m\n\u001b[0;32m    539\u001b[0m \u001b[1;33m\u001b[0m\u001b[0m\n\u001b[1;32m--> 540\u001b[1;33m     \u001b[0mshape\u001b[0m \u001b[1;33m=\u001b[0m \u001b[0m_broadcast_shape\u001b[0m\u001b[1;33m(\u001b[0m\u001b[1;33m*\u001b[0m\u001b[0margs\u001b[0m\u001b[1;33m)\u001b[0m\u001b[1;33m\u001b[0m\u001b[1;33m\u001b[0m\u001b[0m\n\u001b[0m\u001b[0;32m    541\u001b[0m \u001b[1;33m\u001b[0m\u001b[0m\n\u001b[0;32m    542\u001b[0m     \u001b[1;32mif\u001b[0m \u001b[0mall\u001b[0m\u001b[1;33m(\u001b[0m\u001b[0marray\u001b[0m\u001b[1;33m.\u001b[0m\u001b[0mshape\u001b[0m \u001b[1;33m==\u001b[0m \u001b[0mshape\u001b[0m \u001b[1;32mfor\u001b[0m \u001b[0marray\u001b[0m \u001b[1;32min\u001b[0m \u001b[0margs\u001b[0m\u001b[1;33m)\u001b[0m\u001b[1;33m:\u001b[0m\u001b[1;33m\u001b[0m\u001b[1;33m\u001b[0m\u001b[0m\n",
      "\u001b[1;32m~\\anaconda3\\lib\\site-packages\\numpy\\lib\\stride_tricks.py\u001b[0m in \u001b[0;36m_broadcast_shape\u001b[1;34m(*args)\u001b[0m\n\u001b[0;32m    420\u001b[0m     \u001b[1;31m# use the old-iterator because np.nditer does not handle size 0 arrays\u001b[0m\u001b[1;33m\u001b[0m\u001b[1;33m\u001b[0m\u001b[0m\n\u001b[0;32m    421\u001b[0m     \u001b[1;31m# consistently\u001b[0m\u001b[1;33m\u001b[0m\u001b[1;33m\u001b[0m\u001b[0m\n\u001b[1;32m--> 422\u001b[1;33m     \u001b[0mb\u001b[0m \u001b[1;33m=\u001b[0m \u001b[0mnp\u001b[0m\u001b[1;33m.\u001b[0m\u001b[0mbroadcast\u001b[0m\u001b[1;33m(\u001b[0m\u001b[1;33m*\u001b[0m\u001b[0margs\u001b[0m\u001b[1;33m[\u001b[0m\u001b[1;33m:\u001b[0m\u001b[1;36m32\u001b[0m\u001b[1;33m]\u001b[0m\u001b[1;33m)\u001b[0m\u001b[1;33m\u001b[0m\u001b[1;33m\u001b[0m\u001b[0m\n\u001b[0m\u001b[0;32m    423\u001b[0m     \u001b[1;31m# unfortunately, it cannot handle 32 or more arguments directly\u001b[0m\u001b[1;33m\u001b[0m\u001b[1;33m\u001b[0m\u001b[0m\n\u001b[0;32m    424\u001b[0m     \u001b[1;32mfor\u001b[0m \u001b[0mpos\u001b[0m \u001b[1;32min\u001b[0m \u001b[0mrange\u001b[0m\u001b[1;33m(\u001b[0m\u001b[1;36m32\u001b[0m\u001b[1;33m,\u001b[0m \u001b[0mlen\u001b[0m\u001b[1;33m(\u001b[0m\u001b[0margs\u001b[0m\u001b[1;33m)\u001b[0m\u001b[1;33m,\u001b[0m \u001b[1;36m31\u001b[0m\u001b[1;33m)\u001b[0m\u001b[1;33m:\u001b[0m\u001b[1;33m\u001b[0m\u001b[1;33m\u001b[0m\u001b[0m\n",
      "\u001b[1;31mValueError\u001b[0m: shape mismatch: objects cannot be broadcast to a single shape.  Mismatch is between arg 0 with shape (48,) and arg 1 with shape (57,)."
     ]
    },
    {
     "data": {
      "image/png": "[encoded data removed]",
      "text/plain": [
       "<Figure size 1200x600 with 1 Axes>"
      ]
     },
     "metadata": {},
     "output_type": "display_data"
    }
   ],
   "source": [
    "word_attributes_mean = [0.10455, 0.21301, 0.28066, 0.065425, 0.31222, 0.095901, 0.11421, 0.10529, 0.090067, 0.23941, 0.059824, 0.5417, 0.09393, 0.058626, 0.049205, 0.24885, 0.14259, 0.18474, 1.6621, 0.085577, 0.80976, 0.1212, 0.10165, 0.094269, 0.5495, 0.26538, 0.7673, 0.12484, 0.098915, 0.10285, 0.064753, 0.047048, 0.097229, 0.047835, 0.10541, 0.097477, 0.13695, 0.013201, 0.078629, 0.064834, 0.043667, 0.13234, 0.046099, 0.079196, 0.30122, 0.17982, 0.0054445, 0.031869, 0.038575, 0.13903, 0.016976, 0.26907, 0.075811, 0.044238, 5.1915, 52.173, 283.29]\n",
    "attributes = [f'word_freq_WORD_{i+1}' for i in range(48)]\n",
    "\n",
    "plt.figure(figsize=(12, 6))\n",
    "plt.bar(attributes, word_attributes_mean, color='blue')\n",
    "plt.title('Mean Word Frequency Attributes')\n",
    "plt.xlabel('Word Attributes')\n",
    "plt.ylabel('Mean Percentage')\n",
    "plt.xticks(rotation=45)\n",
    "plt.show()\n",
    "\n",
    "# Character Frequency Attributes Analysis\n",
    "char_attributes_mean = [0.10455, 0.21301, 0.28066, 0.065425, 0.31222, 0.095901]\n",
    "char_attributes = [f'char_freq_CHAR_{i+1}' for i in range(6)]\n",
    "\n",
    "plt.figure(figsize=(8, 6))\n",
    "plt.bar(char_attributes, char_attributes_mean, color='purple')\n",
    "plt.title('Mean Character Frequency Attributes')\n",
    "plt.xlabel('Character Attributes')\n",
    "plt.ylabel('Mean Percentage')\n",
    "plt.show()\n",
    "\n",
    "# Capital Run-Length Attributes Analysis\n",
    "capital_attributes = {\n",
    "    'capital_run_length_average': 5.1915,\n",
    "    'capital_run_length_longest': 52.173,\n",
    "    'capital_run_length_total': 283.29\n",
    "}\n",
    "\n",
    "plt.figure(figsize=(10, 6))\n",
    "sns.boxplot(x=list(capital_attributes.keys()), y=list(capital_attributes.values()), color='orange')\n",
    "plt.title('Capital Run-Length Attributes')\n",
    "plt.ylabel('Count')\n",
    "plt.show()"
   ]
  },
  {
   "cell_type": "markdown",
   "metadata": {},
   "source": [
    "## Text preprocessing\n",
    "\n",
    "Lemmatize and detect langugage with confidence score, then remove non-English emails or English emails with confidence less than 0.99"
   ]
  },
  {
   "cell_type": "code",
   "execution_count": 5,
   "metadata": {},
   "outputs": [],
   "source": [
    "# Since SpaCy 3.0 to add custom factory component to Spacy pipeline:\n",
    "# 1. create function with arguments nlp and name that returns a factory\n",
    "# 2. decorate function with @Language.factory('foo')\n",
    "@Language.factory('language_detector')\n",
    "def get_lang_detector(nlp, name):\n",
    "    DetectorFactory.seed = 42\n",
    "    return LanguageDetector()"
   ]
  },
  {
   "cell_type": "code",
   "execution_count": 27,
   "metadata": {},
   "outputs": [
    {
     "name": "stdout",
     "output_type": "stream",
     "text": [
      "Spacy pipeline: tok2vec > tagger > attribute_ruler > lemmatizer > sentencizer > language_detector\n"
     ]
    }
   ],
   "source": [
    "nlp = spacy.load('en_core_web_sm')\n",
    "nlp.disable_pipes('parser', 'ner')\n",
    "nlp.add_pipe('sentencizer')\n",
    "nlp.add_pipe('language_detector')\n",
    "print(\"Spacy pipeline:\", \" > \".join(nlp.pipe_names))\n",
    "\n",
    "def email_nlp_preproc(text):\n",
    "    doc = nlp(text)\n",
    "    lem = \" \".join([token.lemma_ for token in doc])\n",
    "    lang, conf = doc._.language.values()\n",
    "    return lem, lang, conf"
   ]
  },
  {
   "cell_type": "code",
   "execution_count": 28,
   "metadata": {},
   "outputs": [
    {
     "data": {
      "application/vnd.jupyter.widget-view+json": {
       "model_id": "dd7b38e4347d4a86a87db1da1eb633e7",
       "version_major": 2,
       "version_minor": 0
      },
      "text/plain": [
       "  0%|          | 0/6047 [00:00<?, ?it/s]"
      ]
     },
     "metadata": {},
     "output_type": "display_data"
    }
   ],
   "source": [
    "df[['Text_Lemm', 'Lang', 'Conf']]  = pd.DataFrame(\n",
    "    df['Text'].progress_apply(email_nlp_preproc).tolist()\n",
    "    )"
   ]
  },
  {
   "cell_type": "code",
   "execution_count": 35,
   "metadata": {},
   "outputs": [
    {
     "name": "stdout",
     "output_type": "stream",
     "text": [
      "Here's some examples.\n",
      "Hover on the text to see the full content.\n"
     ]
    },
    {
     "data": {
      "text/html": [
       "<style type=\"text/css\">\n",
       "#T_328cc td.col0 {\n",
       "  max-width: 800px;\n",
       "  overflow: hidden;\n",
       "  text-overflow: ellipsis;\n",
       "  white-space: nowrap;\n",
       "}\n",
       "#T_328cc td:hover.col0 {\n",
       "  overflow: visible;\n",
       "  white-space: normal;\n",
       "}\n",
       "</style>\n",
       "<table id=\"T_328cc\">\n",
       "  <thead>\n",
       "    <tr>\n",
       "      <th class=\"blank level0\" >&nbsp;</th>\n",
       "      <th id=\"T_328cc_level0_col0\" class=\"col_heading level0 col0\" >Text_Lemm</th>\n",
       "      <th id=\"T_328cc_level0_col1\" class=\"col_heading level0 col1\" >Lang</th>\n",
       "      <th id=\"T_328cc_level0_col2\" class=\"col_heading level0 col2\" >Conf</th>\n",
       "    </tr>\n",
       "  </thead>\n",
       "  <tbody>\n",
       "    <tr>\n",
       "      <th id=\"T_328cc_level0_row0\" class=\"row_heading level0 row0\" >1145</th>\n",
       "      <td id=\"T_328cc_row0_col0\" class=\"data row0 col0\" >unseen window versus sequence window I apologize for not catch up to the current code in so long . now that I have I be try to resolve \" breakage \" and difference . the unseen window seem to have be replace with the sequence window . while I appreciate the flexibility of the sequence window , the unseen window fill an important - to - I need : it be tiny and could be set to show on all desktop of a virtual window manager without take a lot of space . since my normal mode of operation involve two copy of exmh display on a 1024x768 vnc session , screen space be at a premium . as thing stand now , I have a sequence window that show a lot more information than I need to have handy and take up a lot more room than I can \" spare \" . I can see that I could like the new sequence window a lot for certain operation . but I would like a nice uncluttered , tiny window that _ only _ show I info on my unread mail . one possibility that occur to I would be a button or mouse click that \" shrink \" the sequence window to show only the sequence in the \" always show \" list . and of course a way to expand it back . hal exmh - worker mailing list</td>\n",
       "      <td id=\"T_328cc_row0_col1\" class=\"data row0 col1\" >en</td>\n",
       "      <td id=\"T_328cc_row0_col2\" class=\"data row0 col2\" >0.999998</td>\n",
       "    </tr>\n",
       "    <tr>\n",
       "      <th id=\"T_328cc_level0_row1\" class=\"row_heading level0 row1\" >1489</th>\n",
       "      <td id=\"T_328cc_row1_col0\" class=\"data row1 col0\" >re : phew ! matt kettler say : ok , first , the important stuff . happy birthday justin ( a lil late , but oh well ) cheer ! a 13 % miss ratio on the spam corpus at 5.0 seem awfully high , although that nice low fp percentage be quite nice , as be the narrow - in of average fp / fn score compare to 2.40 . as dan say it be a hard corpus , make hard without the spamtrap datum . also and this be an important point those measurement can not be directly compare , because I change the methodology . in 2.40 the score be evolve on the entire corpus , then evaluate use that corpus ; ie . there be no \" blind \" testing , and the score could overfit and still provide good statistic . in 2.42 , they be evaluate \" blind \" , on a totally unseen set of message , so those figure would be a lot more accurate for real - world use . j.</td>\n",
       "      <td id=\"T_328cc_row1_col1\" class=\"data row1 col1\" >en</td>\n",
       "      <td id=\"T_328cc_row1_col2\" class=\"data row1 col2\" >0.999998</td>\n",
       "    </tr>\n",
       "    <tr>\n",
       "      <th id=\"T_328cc_level0_row2\" class=\"row_heading level0 row2\" >823</th>\n",
       "      <td id=\"T_328cc_row2_col0\" class=\"data row2 col0\" >re : ebusiness webform : cluetrain have leave the station ... webform /can/ accept \" u.s . of a \" as a country . incredible , but true . web form can also accept /multiple/ or even /free - form/ telephone number ... be the people who use procrustean web form practice the same one who do not accept fax ? when I * really * need to get something do , instead of just idle surfing , I call or fax . faxing , like a web form , can be do 24x7 ; it allow I to give all the ( and only the ) pertinent info in a single place ; it also provide a self - journalle correspondence , which mean rollback be easy and replay be even easy . -dave sure , tile window be the good we have for a brief period of time , but they be completely useless except for some terminal base replacement application . I 've be run a tiled ( but somewhat overlap , yield a horizontal stack ) window manager lately . like fill in a web form , find edge and shuffle window may seem productive , but I find that have a window manager manage the window mean I can concentrate on what I want to do with their content . \" dumb question : x client behind a firewall ? \" back in my day , they do not have ssh . then again , back in my day , they do not have firewall . back in my day , when one change computer installation , email would be forward as a courtesy . now , we seem to have swing so far in the opposite direction that it make sense to ditch address every couple of year to shed spam .</td>\n",
       "      <td id=\"T_328cc_row2_col1\" class=\"data row2 col1\" >en</td>\n",
       "      <td id=\"T_328cc_row2_col2\" class=\"data row2 col2\" >0.999997</td>\n",
       "    </tr>\n",
       "    <tr>\n",
       "      <th id=\"T_328cc_level0_row3\" class=\"row_heading level0 row3\" >1656</th>\n",
       "      <td id=\"T_328cc_row3_col0\" class=\"data row3 col0\" >deployment I think one step towards deployment be create a re - usable tokenizer for mail message . the current codebase do not expose an easy - to - use or easy - to - customize tokenizer . the timtest module seem to contain an enormous body of practical knowledge about how to parse mail message , but the module be not design for re - use . I would like to see a module that can take a single message or a collection of message and tokenize each one . I would like to see the tokenize by customizable , too . tim have to exclude some header from his test datum , because there be particular bias in the test datum . if other people have test datum without those bias , they ought to be able to customize the tokenizer to include they or exclude other . jeremy</td>\n",
       "      <td id=\"T_328cc_row3_col1\" class=\"data row3 col1\" >en</td>\n",
       "      <td id=\"T_328cc_row3_col2\" class=\"data row3 col2\" >0.999996</td>\n",
       "    </tr>\n",
       "    <tr>\n",
       "      <th id=\"T_328cc_level0_row4\" class=\"row_heading level0 row4\" >5003</th>\n",
       "      <td id=\"T_328cc_row4_col0\" class=\"data row4 col0\" >financial freedom dear friend , how would you like to make $ 50,000 in the next 90 day ? sound impossible ? I guarantee that it be true , and you can do it . I be sure you would like an extra $ 50,000 to spend . for more information , please visit the website below . if the above link do not work , please copy the address and paste it into your web browser . at the very least take a minute to look at what be on the site , it may change your life forever . note : this be not an unsolicited e - mail . by request , your e - mail address have be verify by you to receive opt - in e - mail promotion . if you do not wish to receive these email and want to unsubscribe yourself from the term of this verification , please reply to this email with the word \" remove \" in the subject line , and you will be remove from our mailing list .</td>\n",
       "      <td id=\"T_328cc_row4_col1\" class=\"data row4 col1\" >en</td>\n",
       "      <td id=\"T_328cc_row4_col2\" class=\"data row4 col2\" >0.999996</td>\n",
       "    </tr>\n",
       "  </tbody>\n",
       "</table>\n"
      ],
      "text/plain": [
       "<pandas.io.formats.style.Styler at 0x1ee9e7ba1f0>"
      ]
     },
     "execution_count": 35,
     "metadata": {},
     "output_type": "execute_result"
    }
   ],
   "source": [
    "s = df[df.Lang == 'en'][['Text_Lemm', 'Lang', 'Conf']].sort_values('Conf').sample(5).style\n",
    "s.set_table_styles({\n",
    "   ('Text_Lemm'): [{'selector': 'td', 'props': 'max-width: 800px; overflow: hidden; text-overflow: ellipsis; white-space: nowrap;'},\n",
    "              {'selector': 'td:hover', 'props': 'overflow: visible; white-space: normal;'}]\n",
    "}, overwrite=False)\n",
    "print(\"Here's some examples.\\nHover on the text to see the full content.\")\n",
    "s"
   ]
  },
  {
   "cell_type": "code",
   "execution_count": 36,
   "metadata": {},
   "outputs": [
    {
     "data": {
      "image/png": "[encoded data removed]",
      "text/plain": [
       "<Figure size 432x288 with 1 Axes>"
      ]
     },
     "metadata": {
      "needs_background": "light"
     },
     "output_type": "display_data"
    }
   ],
   "source": [
    "ax = df['Conf'].plot(kind='hist', title=\"Histogram of confidence emails' language is English\")\n",
    "_ = ax.set_xlabel(\"Confidence is English (0=min, 1=max)\")"
   ]
  },
  {
   "cell_type": "code",
   "execution_count": 37,
   "metadata": {},
   "outputs": [
    {
     "name": "stdout",
     "output_type": "stream",
     "text": [
      "Non-english emails removed: 181\n"
     ]
    }
   ],
   "source": [
    "df_en = df[(df.Lang == 'en') & (df.Conf >= 0.99)]\n",
    "print('Non-english emails removed:', len(df) - len(df_en))"
   ]
  },
  {
   "cell_type": "markdown",
   "metadata": {},
   "source": [
    "## Training\n",
    "\n",
    "Build the following pipeline and use it in a standard Grid Search CV to find the best hyperparameters the second and third stages of the pipeline.\n",
    "\n",
    "**Pipeline:**\n",
    "Lemmatizer > TF-IDF vectorizer > Naive Bayes classifier\n"
   ]
  },
  {
   "cell_type": "code",
   "execution_count": 38,
   "metadata": {},
   "outputs": [],
   "source": [
    "X = df_en['Text_Lemm'].copy()\n",
    "y = df_en['Spam'].values.astype(int)\n",
    "X_train, X_test, y_train, y_test = train_test_split(X, y, test_size=0.2, random_state=42)"
   ]
  },
  {
   "cell_type": "code",
   "execution_count": 39,
   "metadata": {},
   "outputs": [
    {
     "name": "stdout",
     "output_type": "stream",
     "text": [
      "Fitting 3 folds for each of 16 candidates, totalling 48 fits\n",
      "[CV 1/3] END model__alpha=0.1, tfidf__max_df=20, tfidf__min_df=1, tfidf__ngram_range=(1, 1), tfidf__stop_words=english; accuracy: (test=0.930) f1_weighted: (test=0.928) total time=   2.5s\n",
      "[CV 2/3] END model__alpha=0.1, tfidf__max_df=20, tfidf__min_df=1, tfidf__ngram_range=(1, 1), tfidf__stop_words=english; accuracy: (test=0.939) f1_weighted: (test=0.938) total time=   2.7s\n",
      "[CV 3/3] END model__alpha=0.1, tfidf__max_df=20, tfidf__min_df=1, tfidf__ngram_range=(1, 1), tfidf__stop_words=english; accuracy: (test=0.932) f1_weighted: (test=0.930) total time=   2.5s\n",
      "[CV 1/3] END model__alpha=0.1, tfidf__max_df=20, tfidf__min_df=1, tfidf__ngram_range=(1, 2), tfidf__stop_words=english; accuracy: (test=0.974) f1_weighted: (test=0.974) total time=   5.6s\n",
      "[CV 2/3] END model__alpha=0.1, tfidf__max_df=20, tfidf__min_df=1, tfidf__ngram_range=(1, 2), tfidf__stop_words=english; accuracy: (test=0.974) f1_weighted: (test=0.974) total time=   5.9s\n",
      "[CV 3/3] END model__alpha=0.1, tfidf__max_df=20, tfidf__min_df=1, tfidf__ngram_range=(1, 2), tfidf__stop_words=english; accuracy: (test=0.976) f1_weighted: (test=0.976) total time=   5.9s\n",
      "[CV 1/3] END model__alpha=0.1, tfidf__max_df=20, tfidf__min_df=10, tfidf__ngram_range=(1, 1), tfidf__stop_words=english; accuracy: (test=0.898) f1_weighted: (test=0.895) total time=   2.4s\n",
      "[CV 2/3] END model__alpha=0.1, tfidf__max_df=20, tfidf__min_df=10, tfidf__ngram_range=(1, 1), tfidf__stop_words=english; accuracy: (test=0.900) f1_weighted: (test=0.898) total time=   3.1s\n",
      "[CV 3/3] END model__alpha=0.1, tfidf__max_df=20, tfidf__min_df=10, tfidf__ngram_range=(1, 1), tfidf__stop_words=english; accuracy: (test=0.879) f1_weighted: (test=0.875) total time=   3.0s\n",
      "[CV 1/3] END model__alpha=0.1, tfidf__max_df=20, tfidf__min_df=10, tfidf__ngram_range=(1, 2), tfidf__stop_words=english; accuracy: (test=0.950) f1_weighted: (test=0.950) total time=   4.9s\n",
      "[CV 2/3] END model__alpha=0.1, tfidf__max_df=20, tfidf__min_df=10, tfidf__ngram_range=(1, 2), tfidf__stop_words=english; accuracy: (test=0.951) f1_weighted: (test=0.951) total time=   4.2s\n",
      "[CV 3/3] END model__alpha=0.1, tfidf__max_df=20, tfidf__min_df=10, tfidf__ngram_range=(1, 2), tfidf__stop_words=english; accuracy: (test=0.946) f1_weighted: (test=0.946) total time=   4.9s\n",
      "[CV 1/3] END model__alpha=0.1, tfidf__max_df=50, tfidf__min_df=1, tfidf__ngram_range=(1, 1), tfidf__stop_words=english; accuracy: (test=0.953) f1_weighted: (test=0.952) total time=   2.7s\n",
      "[CV 2/3] END model__alpha=0.1, tfidf__max_df=50, tfidf__min_df=1, tfidf__ngram_range=(1, 1), tfidf__stop_words=english; accuracy: (test=0.960) f1_weighted: (test=0.960) total time=   2.9s\n",
      "[CV 3/3] END model__alpha=0.1, tfidf__max_df=50, tfidf__min_df=1, tfidf__ngram_range=(1, 1), tfidf__stop_words=english; accuracy: (test=0.951) f1_weighted: (test=0.951) total time=   2.6s\n",
      "[CV 1/3] END model__alpha=0.1, tfidf__max_df=50, tfidf__min_df=1, tfidf__ngram_range=(1, 2), tfidf__stop_words=english; accuracy: (test=0.975) f1_weighted: (test=0.975) total time=   5.8s\n",
      "[CV 2/3] END model__alpha=0.1, tfidf__max_df=50, tfidf__min_df=1, tfidf__ngram_range=(1, 2), tfidf__stop_words=english; accuracy: (test=0.980) f1_weighted: (test=0.979) total time=   5.9s\n",
      "[CV 3/3] END model__alpha=0.1, tfidf__max_df=50, tfidf__min_df=1, tfidf__ngram_range=(1, 2), tfidf__stop_words=english; accuracy: (test=0.975) f1_weighted: (test=0.975) total time=   5.8s\n",
      "[CV 1/3] END model__alpha=0.1, tfidf__max_df=50, tfidf__min_df=10, tfidf__ngram_range=(1, 1), tfidf__stop_words=english; accuracy: (test=0.948) f1_weighted: (test=0.947) total time=   2.3s\n",
      "[CV 2/3] END model__alpha=0.1, tfidf__max_df=50, tfidf__min_df=10, tfidf__ngram_range=(1, 1), tfidf__stop_words=english; accuracy: (test=0.941) f1_weighted: (test=0.940) total time=   2.5s\n",
      "[CV 3/3] END model__alpha=0.1, tfidf__max_df=50, tfidf__min_df=10, tfidf__ngram_range=(1, 1), tfidf__stop_words=english; accuracy: (test=0.937) f1_weighted: (test=0.936) total time=   2.4s\n",
      "[CV 1/3] END model__alpha=0.1, tfidf__max_df=50, tfidf__min_df=10, tfidf__ngram_range=(1, 2), tfidf__stop_words=english; accuracy: (test=0.967) f1_weighted: (test=0.967) total time=   4.7s\n",
      "[CV 2/3] END model__alpha=0.1, tfidf__max_df=50, tfidf__min_df=10, tfidf__ngram_range=(1, 2), tfidf__stop_words=english; accuracy: (test=0.967) f1_weighted: (test=0.967) total time=   4.6s\n",
      "[CV 3/3] END model__alpha=0.1, tfidf__max_df=50, tfidf__min_df=10, tfidf__ngram_range=(1, 2), tfidf__stop_words=english; accuracy: (test=0.965) f1_weighted: (test=0.965) total time=   4.9s\n",
      "[CV 1/3] END model__alpha=1, tfidf__max_df=20, tfidf__min_df=1, tfidf__ngram_range=(1, 1), tfidf__stop_words=english; accuracy: (test=0.888) f1_weighted: (test=0.880) total time=   2.7s\n",
      "[CV 2/3] END model__alpha=1, tfidf__max_df=20, tfidf__min_df=1, tfidf__ngram_range=(1, 1), tfidf__stop_words=english; accuracy: (test=0.898) f1_weighted: (test=0.892) total time=   2.9s\n",
      "[CV 3/3] END model__alpha=1, tfidf__max_df=20, tfidf__min_df=1, tfidf__ngram_range=(1, 1), tfidf__stop_words=english; accuracy: (test=0.884) f1_weighted: (test=0.875) total time=   2.6s\n",
      "[CV 1/3] END model__alpha=1, tfidf__max_df=20, tfidf__min_df=1, tfidf__ngram_range=(1, 2), tfidf__stop_words=english; accuracy: (test=0.926) f1_weighted: (test=0.923) total time=   6.4s\n",
      "[CV 2/3] END model__alpha=1, tfidf__max_df=20, tfidf__min_df=1, tfidf__ngram_range=(1, 2), tfidf__stop_words=english; accuracy: (test=0.922) f1_weighted: (test=0.918) total time=   6.2s\n",
      "[CV 3/3] END model__alpha=1, tfidf__max_df=20, tfidf__min_df=1, tfidf__ngram_range=(1, 2), tfidf__stop_words=english; accuracy: (test=0.930) f1_weighted: (test=0.927) total time=   6.0s\n",
      "[CV 1/3] END model__alpha=1, tfidf__max_df=20, tfidf__min_df=10, tfidf__ngram_range=(1, 1), tfidf__stop_words=english; accuracy: (test=0.893) f1_weighted: (test=0.889) total time=   2.4s\n",
      "[CV 2/3] END model__alpha=1, tfidf__max_df=20, tfidf__min_df=10, tfidf__ngram_range=(1, 1), tfidf__stop_words=english; accuracy: (test=0.897) f1_weighted: (test=0.893) total time=   2.6s\n",
      "[CV 3/3] END model__alpha=1, tfidf__max_df=20, tfidf__min_df=10, tfidf__ngram_range=(1, 1), tfidf__stop_words=english; accuracy: (test=0.882) f1_weighted: (test=0.876) total time=   2.4s\n",
      "[CV 1/3] END model__alpha=1, tfidf__max_df=20, tfidf__min_df=10, tfidf__ngram_range=(1, 2), tfidf__stop_words=english; accuracy: (test=0.946) f1_weighted: (test=0.946) total time=   4.5s\n",
      "[CV 2/3] END model__alpha=1, tfidf__max_df=20, tfidf__min_df=10, tfidf__ngram_range=(1, 2), tfidf__stop_words=english; accuracy: (test=0.953) f1_weighted: (test=0.952) total time=   4.5s\n",
      "[CV 3/3] END model__alpha=1, tfidf__max_df=20, tfidf__min_df=10, tfidf__ngram_range=(1, 2), tfidf__stop_words=english; accuracy: (test=0.942) f1_weighted: (test=0.941) total time=   4.5s\n",
      "[CV 1/3] END model__alpha=1, tfidf__max_df=50, tfidf__min_df=1, tfidf__ngram_range=(1, 1), tfidf__stop_words=english; accuracy: (test=0.912) f1_weighted: (test=0.908) total time=   2.6s\n",
      "[CV 2/3] END model__alpha=1, tfidf__max_df=50, tfidf__min_df=1, tfidf__ngram_range=(1, 1), tfidf__stop_words=english; accuracy: (test=0.918) f1_weighted: (test=0.913) total time=   2.7s\n",
      "[CV 3/3] END model__alpha=1, tfidf__max_df=50, tfidf__min_df=1, tfidf__ngram_range=(1, 1), tfidf__stop_words=english; accuracy: (test=0.911) f1_weighted: (test=0.906) total time=   2.5s\n",
      "[CV 1/3] END model__alpha=1, tfidf__max_df=50, tfidf__min_df=1, tfidf__ngram_range=(1, 2), tfidf__stop_words=english; accuracy: (test=0.940) f1_weighted: (test=0.938) total time=   5.9s\n",
      "[CV 2/3] END model__alpha=1, tfidf__max_df=50, tfidf__min_df=1, tfidf__ngram_range=(1, 2), tfidf__stop_words=english; accuracy: (test=0.935) f1_weighted: (test=0.933) total time=   5.9s\n",
      "[CV 3/3] END model__alpha=1, tfidf__max_df=50, tfidf__min_df=1, tfidf__ngram_range=(1, 2), tfidf__stop_words=english; accuracy: (test=0.943) f1_weighted: (test=0.941) total time=   6.2s\n",
      "[CV 1/3] END model__alpha=1, tfidf__max_df=50, tfidf__min_df=10, tfidf__ngram_range=(1, 1), tfidf__stop_words=english; accuracy: (test=0.943) f1_weighted: (test=0.942) total time=   2.5s\n",
      "[CV 2/3] END model__alpha=1, tfidf__max_df=50, tfidf__min_df=10, tfidf__ngram_range=(1, 1), tfidf__stop_words=english; accuracy: (test=0.941) f1_weighted: (test=0.940) total time=   2.5s\n",
      "[CV 3/3] END model__alpha=1, tfidf__max_df=50, tfidf__min_df=10, tfidf__ngram_range=(1, 1), tfidf__stop_words=english; accuracy: (test=0.930) f1_weighted: (test=0.929) total time=   2.6s\n",
      "[CV 1/3] END model__alpha=1, tfidf__max_df=50, tfidf__min_df=10, tfidf__ngram_range=(1, 2), tfidf__stop_words=english; accuracy: (test=0.968) f1_weighted: (test=0.968) total time=   4.4s\n",
      "[CV 2/3] END model__alpha=1, tfidf__max_df=50, tfidf__min_df=10, tfidf__ngram_range=(1, 2), tfidf__stop_words=english; accuracy: (test=0.967) f1_weighted: (test=0.966) total time=   4.4s\n",
      "[CV 3/3] END model__alpha=1, tfidf__max_df=50, tfidf__min_df=10, tfidf__ngram_range=(1, 2), tfidf__stop_words=english; accuracy: (test=0.957) f1_weighted: (test=0.956) total time=   4.5s\n",
      "CPU times: total: 3min 20s\n",
      "Wall time: 3min 21s\n"
     ]
    }
   ],
   "source": [
    "%%time\n",
    "\n",
    "full_pipeline = Pipeline([\n",
    "    ('tfidf', TfidfVectorizer()),\n",
    "    ('model', MultinomialNB())\n",
    "])\n",
    "\n",
    "param_grid = [\n",
    "    {\n",
    "        'tfidf__stop_words': ['english'],\n",
    "        'tfidf__ngram_range': [(1,1), (1,2)],\n",
    "        'tfidf__max_df': [20, 50],\n",
    "        'tfidf__min_df': [1, 10],\n",
    "        'model__alpha': [.1, 1]\n",
    "    }\n",
    "]\n",
    "\n",
    "kfolds = StratifiedKFold(n_splits=3, shuffle=True, random_state=42)\n",
    "\n",
    "grid_search = GridSearchCV(full_pipeline, param_grid, cv=kfolds,\n",
    "                           scoring=['accuracy', 'f1_weighted'], refit='accuracy', verbose=3)\n",
    "                           \n",
    "_ = grid_search.fit(X_train, y_train)"
   ]
  },
  {
   "cell_type": "markdown",
   "metadata": {},
   "source": [
    "## Customize best model\n",
    "\n",
    "Since this is a spam classifier it makes sense to maximize precision while worsening  recall."
   ]
  },
  {
   "cell_type": "code",
   "execution_count": 40,
   "metadata": {},
   "outputs": [],
   "source": [
    "y_proba = cross_val_predict(grid_search.best_estimator_, X_train, y_train, cv=kfolds,\n",
    "                            method=\"predict_proba\")\n",
    "precisions, recalls, thresholds = precision_recall_curve(y_train, y_proba[:, 1])"
   ]
  },
  {
   "cell_type": "code",
   "execution_count": 41,
   "metadata": {},
   "outputs": [
    {
     "data": {
      "image/png": "[encoded data removed]",
      "text/plain": [
       "<Figure size 576x288 with 1 Axes>"
      ]
     },
     "metadata": {
      "needs_background": "light"
     },
     "output_type": "display_data"
    }
   ],
   "source": [
    "plot_precision_recall_vs_threshold(precisions, recalls, thresholds, cond=np.argmax(precisions >= .999))"
   ]
  },
  {
   "cell_type": "markdown",
   "metadata": {},
   "source": [
    "## Test\n",
    "\n",
    "Final metrics on unseen data."
   ]
  },
  {
   "cell_type": "code",
   "execution_count": 42,
   "metadata": {},
   "outputs": [
    {
     "name": "stdout",
     "output_type": "stream",
     "text": [
      "Accuracy: 97.53%\n",
      "Precision: 100.00%\n",
      "Recall: 91.94%\n"
     ]
    }
   ],
   "source": [
    "custom_thr = thresholds[np.argmax(precisions >= .99)]\n",
    "y_hat = grid_search.best_estimator_.predict_proba(X_test)[:,1] >= custom_thr\n",
    "\n",
    "print(f\"Accuracy: {accuracy_score(y_test, y_hat):.2%}\")\n",
    "print(f\"Precision: {precision_score(y_test, y_hat):.2%}\")\n",
    "print(f\"Recall: {recall_score(y_test, y_hat):.2%}\")"
   ]
  },
  {
   "cell_type": "markdown",
   "metadata": {},
   "source": [
    "## Making load data.py"
   ]
  },
  {
   "cell_type": "code",
   "execution_count": 2,
   "metadata": {},
   "outputs": [
    {
     "ename": "ModuleNotFoundError",
     "evalue": "No module named 'sklearn.cross_validation'",
     "output_type": "error",
     "traceback": [
      "\u001b[1;31m---------------------------------------------------------------------------\u001b[0m",
      "\u001b[1;31mModuleNotFoundError\u001b[0m                       Traceback (most recent call last)",
      "\u001b[1;32m~\\AppData\\Local\\Temp\\ipykernel_32976\\1613993801.py\u001b[0m in \u001b[0;36m<module>\u001b[1;34m\u001b[0m\n\u001b[0;32m      2\u001b[0m \u001b[1;32mimport\u001b[0m \u001b[0mnumpy\u001b[0m \u001b[1;32mas\u001b[0m \u001b[0mnp\u001b[0m\u001b[1;33m\u001b[0m\u001b[1;33m\u001b[0m\u001b[0m\n\u001b[0;32m      3\u001b[0m \u001b[1;32mfrom\u001b[0m \u001b[0mnumpy\u001b[0m\u001b[1;33m.\u001b[0m\u001b[0mrandom\u001b[0m \u001b[1;32mimport\u001b[0m \u001b[0mRandomState\u001b[0m\u001b[1;33m\u001b[0m\u001b[1;33m\u001b[0m\u001b[0m\n\u001b[1;32m----> 4\u001b[1;33m \u001b[1;32mfrom\u001b[0m \u001b[0msklearn\u001b[0m\u001b[1;33m.\u001b[0m\u001b[0mcross_validation\u001b[0m \u001b[1;32mimport\u001b[0m \u001b[0mtrain_test_split\u001b[0m\u001b[1;33m\u001b[0m\u001b[1;33m\u001b[0m\u001b[0m\n\u001b[0m\u001b[0;32m      5\u001b[0m \u001b[1;33m\u001b[0m\u001b[0m\n\u001b[0;32m      6\u001b[0m \u001b[1;32mdef\u001b[0m \u001b[0mload_data\u001b[0m\u001b[1;33m(\u001b[0m\u001b[0mTrain\u001b[0m\u001b[1;33m=\u001b[0m\u001b[1;32mFalse\u001b[0m\u001b[1;33m)\u001b[0m\u001b[1;33m:\u001b[0m\u001b[1;33m\u001b[0m\u001b[1;33m\u001b[0m\u001b[0m\n",
      "\u001b[1;31mModuleNotFoundError\u001b[0m: No module named 'sklearn.cross_validation'"
     ]
    }
   ],
   "source": [
    "import csv\n",
    "import numpy as np\n",
    "from numpy.random import RandomState\n",
    "from sklearn.cross_validation import train_test_split\n",
    "\n",
    "def load_data(Train=False):\n",
    "    data = []\n",
    "\n",
    "    # Read the training data\n",
    "    f = open('data/spambase.data')\n",
    "    reader = csv.reader(f)\n",
    "    next(reader, None)\n",
    "    for row in reader:\n",
    "        data.append(row)\n",
    "    f.close()\n",
    "\n",
    "    X = np.array([x[:-1] for x in data]).astype(np.float)\n",
    "    y = np.array([x[-1] for x in data]).astype(np.float)\n",
    "    del data # free up the memory\n",
    "\n",
    "    if Train:\n",
    "        # returns X_train, X_test, y_train, y_test\n",
    "        return train_test_split(X, y, test_size=0.3, random_state=RandomState())\n",
    "    else:\n",
    "        return X, y"
   ]
  },
  {
   "cell_type": "markdown",
   "metadata": {},
   "source": [
    "### Model Preparation"
   ]
  },
  {
   "cell_type": "markdown",
   "metadata": {},
   "source": [
    "#### 1. Decision Trees\n"
   ]
  },
  {
   "cell_type": "code",
   "execution_count": null,
   "metadata": {},
   "outputs": [],
   "source": [
    "from load_data import load_data\n",
    "from sklearn.tree import DecisionTreeClassifier, export_graphviz\n",
    "import numpy as np\n",
    "from sklearn.grid_search import GridSearchCV\n",
    "import matplotlib.pyplot as plt\n",
    "from sklearn.externals.six import StringIO\n",
    "from sklearn.metrics import roc_curve, auc\n",
    "import pydot_ng\n",
    "import operator\n"
   ]
  },
  {
   "cell_type": "code",
   "execution_count": 3,
   "metadata": {},
   "outputs": [
    {
     "ename": "NameError",
     "evalue": "name 'load_data' is not defined",
     "output_type": "error",
     "traceback": [
      "\u001b[1;31m---------------------------------------------------------------------------\u001b[0m",
      "\u001b[1;31mNameError\u001b[0m                                 Traceback (most recent call last)",
      "\u001b[1;32m~\\AppData\\Local\\Temp\\ipykernel_32976\\2368037773.py\u001b[0m in \u001b[0;36m<module>\u001b[1;34m\u001b[0m\n\u001b[0;32m     40\u001b[0m \u001b[1;33m\u001b[0m\u001b[0m\n\u001b[0;32m     41\u001b[0m \u001b[1;32mfor\u001b[0m \u001b[0mi\u001b[0m \u001b[1;32min\u001b[0m \u001b[0mrange\u001b[0m\u001b[1;33m(\u001b[0m\u001b[0miterations\u001b[0m\u001b[1;33m)\u001b[0m\u001b[1;33m:\u001b[0m\u001b[1;33m\u001b[0m\u001b[1;33m\u001b[0m\u001b[0m\n\u001b[1;32m---> 42\u001b[1;33m     \u001b[0mX_train\u001b[0m\u001b[1;33m,\u001b[0m \u001b[0mX_test\u001b[0m\u001b[1;33m,\u001b[0m \u001b[0my_train\u001b[0m\u001b[1;33m,\u001b[0m \u001b[0my_test\u001b[0m \u001b[1;33m=\u001b[0m \u001b[0mload_data\u001b[0m\u001b[1;33m(\u001b[0m\u001b[0mTrain\u001b[0m\u001b[1;33m=\u001b[0m\u001b[1;32mTrue\u001b[0m\u001b[1;33m)\u001b[0m\u001b[1;33m\u001b[0m\u001b[1;33m\u001b[0m\u001b[0m\n\u001b[0m\u001b[0;32m     43\u001b[0m \u001b[1;33m\u001b[0m\u001b[0m\n\u001b[0;32m     44\u001b[0m     \u001b[1;31m# For now, let's train only on word frequency vectors\u001b[0m\u001b[1;33m\u001b[0m\u001b[1;33m\u001b[0m\u001b[0m\n",
      "\u001b[1;31mNameError\u001b[0m: name 'load_data' is not defined"
     ]
    }
   ],
   "source": [
    "word_labels = [\"make\", \"address\", \"all\", \"3d\", \"our\", \"over\", \"remove\", \"internet\",\n",
    "                \"order\", \"mail\", \"receive\", \"will\", \"people\", \"report\", \"addresses\",\n",
    "                \"free\", \"business\", \"email\", \"you\", \"credit\", \"your\", \"font\", \"000\",\n",
    "                \"money\", \"hp\", \"hpl\", \"george\", \"650\", \"lab\", \"labs\", \"telnet\", \"857\",\n",
    "                \"data\", \"415\", \"85\", \"technology\", \"1999\", \"parts\", \"pm\", \"direct\", \"cs\",\n",
    "                \"meeting\", \"original\", \"project\", \"re\", \"edu\", \"table\", \"conference\"]\n",
    "\n",
    "iterations = 50\n",
    "k = 5\n",
    "\n",
    "def find_hyperparams(clf, X, y):\n",
    "    # Set the parameters by cross-validation\n",
    "    param_grid = [{'criterion': ['gini', 'entropy'],\n",
    "                    'splitter': ['best', 'random'],\n",
    "                    'max_features': ['sqrt', 'log2', None, 0.1, 0.2, 0.3, 0.4, 0.5, 0.6, 0.7, 0.8, 0.9 ]}]\n",
    "    grid = GridSearchCV(clf, param_grid)\n",
    "    grid.fit(X, y)\n",
    "    print('done fitting')\n",
    "    return grid.best_estimator_\n",
    "\n",
    "def top_k_features(k, weights):\n",
    "    return sorted(zip(word_labels, weights), reverse=True, key=operator.itemgetter(1))[:k]\n",
    "\n",
    "def show_auc(y_true, y_score):\n",
    "    fpr, tpr, _ = roc_curve(y_true, y_score)\n",
    "    roc_auc = auc(fpr, tpr)\n",
    "    plt.figure()\n",
    "    plt.plot(fpr, tpr, label='ROC curve (area = %0.2f)' % roc_auc)\n",
    "    plt.plot([0, 1], [0, 1], 'k--')\n",
    "    plt.xlim([0.0, 1.0])\n",
    "    plt.ylim([0.0, 1.05])\n",
    "    plt.xlabel('False Positive Rate')\n",
    "    plt.ylabel('True Positive Rate')\n",
    "    plt.title('Receiver operating characteristic example')\n",
    "    plt.legend(loc=\"lower right\")\n",
    "    plt.show()\n",
    "\n",
    "scores = []\n",
    "roc_auc = []\n",
    "\n",
    "for i in range(iterations):\n",
    "    X_train, X_test, y_train, y_test = load_data(Train=True)\n",
    "\n",
    "    # For now, let's train only on word frequency vectors\n",
    "    X_train = X_train[:, 0:48]\n",
    "    X_test = X_test[:, 0:48]\n",
    "\n",
    "    clf = DecisionTreeClassifier(criterion=\"entropy\")\n",
    "    clf.fit(X_train, y_train)\n",
    "    scores.append(clf.score(X_test, y_test))\n",
    "\n",
    "    fpr, tpr, _ = roc_curve(y_test, clf.predict_proba(X_test)[:, 1])\n",
    "    roc_auc.append(auc(fpr, tpr))\n",
    "\n",
    "\n",
    "\n",
    "#X, y = load_data()\n",
    "#print(find_hyperparams(clf, X, y))\n",
    "\n",
    "show_auc(y_test, clf.predict_proba(X_test)[:, 1])\n",
    "print(top_k_features(5, clf.feature_importances_))\n",
    "\n",
    "#dot_data = StringIO()\n",
    "#export_graphviz(clf, out_file=dot_data, class_names=[\"Ham\", \"Spam\"], feature_names=word_labels)\n",
    "#graph = pydot_ng.graph_from_dot_data(dot_data.getvalue())\n",
    "#graph.write_png(\"tree.png\")\n",
    "\n",
    "print('Accuracy. Avg: %0.5f, Std: %0.5f' % (np.mean(scores), np.std(scores)))\n",
    "print('AUC. Avg: %0.5f, Std: %0.5f' % (np.mean(roc_auc), np.std(roc_auc)))"
   ]
  },
  {
   "cell_type": "markdown",
   "metadata": {},
   "source": [
    "#### Naive Baiyes"
   ]
  },
  {
   "cell_type": "code",
   "execution_count": 4,
   "metadata": {},
   "outputs": [
    {
     "ename": "SyntaxError",
     "evalue": "unexpected EOF while parsing (3245426358.py, line 244)",
     "output_type": "error",
     "traceback": [
      "\u001b[1;36m  File \u001b[1;32m\"C:\\Users\\sajee\\AppData\\Local\\Temp\\ipykernel_32976\\3245426358.py\"\u001b[1;36m, line \u001b[1;32m244\u001b[0m\n\u001b[1;33m    return X.dot((self._feature_log_prob - ne\u001b[0m\n\u001b[1;37m                                             ^\u001b[0m\n\u001b[1;31mSyntaxError\u001b[0m\u001b[1;31m:\u001b[0m unexpected EOF while parsing\n"
     ]
    }
   ],
   "source": [
    "import numpy as np\n",
    "from scipy.misc import logsumexp\n",
    "\n",
    "# Base class inspired by https://github.com/scikit-learn/scikit-learn/blob/a1860144aa2083277ba354b0cc46f9eb4acf0db0/sklearn/naive_bayes.py\n",
    "class NaiveBayes:\n",
    "\n",
    "    def fit(self, X, y):\n",
    "        \"\"\"Fit the Naive Bayes model to the input\n",
    "\n",
    "        Arguments:\n",
    "        X -- M x N numpy array\n",
    "        y --  M x 1 numpy array, storing K unique labels\n",
    "\n",
    "        Returns:\n",
    "        None\n",
    "        \"\"\"\n",
    "\n",
    "        raise NotImplementedError()\n",
    "\n",
    "    def _predict_log_proba(self, X):\n",
    "        \"\"\"Predict the log of the label probabilities for the input\n",
    "\n",
    "        Arguments:\n",
    "        X -- M x N numpy array\n",
    "\n",
    "        Returns:\n",
    "        log_probabilities -- M x K numpy array\n",
    "        \"\"\"\n",
    "\n",
    "        jll = self._joint_log_likelihood(X)\n",
    "        log_prob = logsumexp(jll, axis=1)\n",
    "        return jll - np.atleast_2d(log_prob).T\n",
    "\n",
    "    def predict_proba(self, X):\n",
    "        \"\"\"Predict the label probabilities for the input\n",
    "\n",
    "        Arguments:\n",
    "        X -- M x N numpy array\n",
    "\n",
    "        Returns:\n",
    "        probabilities -- M x K numpy array\n",
    "        \"\"\"\n",
    "\n",
    "        return np.exp(self._predict_log_proba(X))\n",
    "\n",
    "    def predict(self, X):\n",
    "        \"\"\"Predict the labels for the input\n",
    "\n",
    "        Arguments:\n",
    "        X -- M x N numpy array\n",
    "\n",
    "        Returns:\n",
    "        probabilities -- M x K numpy array\n",
    "        \"\"\"\n",
    "\n",
    "        return self._classes[np.argmax(self._joint_log_likelihood(X), axis=1)]\n",
    "\n",
    "    def score(self, X, y):\n",
    "        \"\"\"Accuracy for test data and expected labels\n",
    "\n",
    "        Arguments:\n",
    "        X -- M x N numpy array\n",
    "        y --  M x 1 numpy array, storing K unique labels\n",
    "\n",
    "        Returns:\n",
    "        accuracy_score -- decimal value (0.0-1.0)\n",
    "        \"\"\"\n",
    "\n",
    "        pred = self.predict(X)\n",
    "\n",
    "        score = 0.0\n",
    "        for i in range(pred.shape[0]):\n",
    "            if (pred[i] == y[i]):\n",
    "                score += 1\n",
    "\n",
    "        return score / pred.shape[0]\n",
    "\n",
    "class GaussianBayes(NaiveBayes):\n",
    "\n",
    "    def fit(self, X, y):\n",
    "        \"\"\"Fit the Naive Bayes model to the input\n",
    "\n",
    "        Arguments:\n",
    "        X -- M x N numpy array\n",
    "        y --  M x 1 numpy array, storing K unique labels\n",
    "\n",
    "        Returns:\n",
    "        None\n",
    "        \"\"\"\n",
    "\n",
    "        unq, unq_counts = np.unique(y, return_counts=True)\n",
    "\n",
    "        self._classes = unq # K x 1\n",
    "        self.priors = unq_counts / y.shape[0] # K x 1\n",
    "        self.num_classes = len(unq)\n",
    "\n",
    "        mean = []\n",
    "        var = []\n",
    "\n",
    "        for y_i in unq:\n",
    "            X_i = X[y == y_i, :]\n",
    "\n",
    "            mean.append(np.mean(X_i, axis=0))\n",
    "            var.append(np.var(X_i, axis=0))\n",
    "\n",
    "        self.mean = self._weights = np.vstack(mean) # K x N\n",
    "        self.var = np.vstack(var)  # K x N\n",
    "\n",
    "    def _joint_log_likelihood(self, X):\n",
    "        prob = []\n",
    "\n",
    "        epsilon = 1e-9\n",
    "\n",
    "        for k in range(self.num_classes):\n",
    "            mean = self.mean[k, :]\n",
    "            var = self.var[k, :] + epsilon # add epsilon so we never divide by zero\n",
    "            gauss = -0.5 * np.sum(np.log(2.0 * np.pi * var))\n",
    "            gauss -= 0.5 * np.sum(np.square(X - mean) / var, axis=1)\n",
    "            prob.append(np.log(self.priors[k]) + gauss)\n",
    "\n",
    "        prob = np.vstack(prob).T\n",
    "        return prob\n",
    "\n",
    "class MultinomialBayes(NaiveBayes):\n",
    "\n",
    "    def __init__(self, alpha=1.0):\n",
    "        self.alpha = alpha\n",
    "\n",
    "    def fit(self, X, y):\n",
    "        \"\"\"Fit the Naive Bayes model to the input\n",
    "\n",
    "        Arguments:\n",
    "        X -- M x N numpy array\n",
    "        y --  M x 1 numpy array, storing K unique labels\n",
    "\n",
    "        Returns:\n",
    "        None\n",
    "        \"\"\"\n",
    "\n",
    "        unq, unq_counts = np.unique(y, return_counts=True)\n",
    "\n",
    "        self._classes = unq # K x 1\n",
    "        self._log_priors = np.log(unq_counts) - np.log(y.shape[0])\n",
    "\n",
    "        # Alpha will be used for smoothing later.\n",
    "        # If set to zero, we could have numerical instability.\n",
    "        if self.alpha == 0.0:\n",
    "            self.alpha = 1e-16\n",
    "\n",
    "        feature_log_probs = []\n",
    "        for k in range(len(unq)):\n",
    "            # Grab all data for the kth label\n",
    "            subset = X[y == k, :]\n",
    "\n",
    "            # We add alpha for smoothing. This means we don't take the\n",
    "            # log of zero in case a feature is missing (=> P(feature) = 0)\n",
    "            counts = np.sum(subset, axis=0) + self.alpha\n",
    "            count_sum = np.sum(counts) + self.alpha * 2\n",
    "\n",
    "            # Subtract the logs (same as division)\n",
    "            feature_log_probs.append(np.log(counts) - np.log(count_sum.reshape(-1,1)))\n",
    "\n",
    "        self._feature_log_prob = np.vstack(feature_log_probs)\n",
    "\n",
    "    def _joint_log_likelihood(self, X):\n",
    "        \"\"\"Predict the log of the label probabilities for the input\n",
    "\n",
    "        Arguments:\n",
    "        X -- M x N numpy array\n",
    "\n",
    "        Returns:\n",
    "        log_probabilities -- M x K numpy array\n",
    "        \"\"\"\n",
    "\n",
    "        # Multinomial Bayes is a simple linear classifier in log-space!\n",
    "        return self._log_priors + X.dot(self._feature_log_prob.T)\n",
    "\n",
    "class BernoulliBayes(NaiveBayes):\n",
    "\n",
    "    def __init__(self, alpha=1.0, binarize=0.5):\n",
    "        self.alpha = alpha\n",
    "        self.binarize = binarize\n",
    "\n",
    "    def __binarize(self, X):\n",
    "        X_bin = np.zeros(X.shape)\n",
    "        X_bin[X > self.binarize] = 1\n",
    "        return X_bin\n",
    "\n",
    "    def fit(self, X, y):\n",
    "        \"\"\"Fit the Naive Bayes model to the input\n",
    "\n",
    "        Arguments:\n",
    "        X -- M x N numpy array\n",
    "        y --  M x 1 numpy array, storing K unique labels\n",
    "\n",
    "        Returns:\n",
    "        None\n",
    "        \"\"\"\n",
    "\n",
    "        unq, unq_counts = np.unique(y, return_counts=True)\n",
    "\n",
    "        self._classes = unq # K x 1\n",
    "        self._priors = unq_counts / y.shape[0] # K x 1\n",
    "\n",
    "        if self.binarize is not None:\n",
    "            X = self.__binarize(X)\n",
    "\n",
    "        # Alpha will be used for smoothing later.\n",
    "        # If set to zero, we could have numerical instability.\n",
    "        if self.alpha == 0.0:\n",
    "            self.alpha = 1e-16\n",
    "\n",
    "        feature_log_probs = []\n",
    "        for k in range(len(unq)):\n",
    "            # Grab all data for the kth label\n",
    "            subset = X[y == k, :]\n",
    "\n",
    "            # We add alpha for smoothing. This means we don't take the\n",
    "            # log of zero in case a feature is missing (=> P(feature) = 0)\n",
    "            counts = np.sum(subset, axis=0) + self.alpha\n",
    "            count_sum = np.sum(counts) + self.alpha * 2\n",
    "\n",
    "            # Subtract the logs (same as division)\n",
    "            feature_log_probs.append(np.log(counts) - np.log(count_sum.reshape(-1,1)))\n",
    "\n",
    "        self._feature_log_prob = np.vstack(feature_log_probs)\n",
    "\n",
    "    def _joint_log_likelihood(self, X):\n",
    "        \"\"\"Predict the log of the label probabilities for the input\n",
    "\n",
    "        Arguments:\n",
    "        X -- M x N numpy array\n",
    "\n",
    "        Returns:\n",
    "        log_probabilities -- M x K numpy array\n",
    "        \"\"\"\n",
    "\n",
    "        if self.binarize is not None:\n",
    "            X = self.__binarize(X)\n",
    "\n",
    "        # log of the Bernoulli equation\n",
    "        neg_prob = np.log(1. - np.exp(self._feature_log_prob))\n",
    "        log_priors = np.log(self._priors)\n",
    "        return X.dot((self._feature_log_prob - ne"
   ]
  },
  {
   "cell_type": "code",
   "execution_count": null,
   "metadata": {},
   "outputs": [],
   "source": []
  }
 ],
 "metadata": {
  "interpreter": {
   "hash": "576f9d133f1af6bda2497d74c6a34a5733efffdc77943032fb1e42d8bbd61d88"
  },
  "kernelspec": {
   "display_name": "Python 3 (ipykernel)",
   "language": "python",
   "name": "python3"
  },
  "language_info": {
   "codemirror_mode": {
    "name": "ipython",
    "version": 3
   },
   "file_extension": ".py",
   "mimetype": "text/x-python",
   "name": "python",
   "nbconvert_exporter": "python",
   "pygments_lexer": "ipython3",
   "version": "3.11.5"
  }
 },
 "nbformat": 4,
 "nbformat_minor": 2
}
